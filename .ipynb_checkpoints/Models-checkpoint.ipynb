{
 "cells": [
  {
   "cell_type": "markdown",
   "metadata": {},
   "source": [
    "# Setting up environment"
   ]
  },
  {
   "cell_type": "code",
   "execution_count": 1,
   "metadata": {},
   "outputs": [],
   "source": [
    "# -*- coding:utf-8 -*-\n",
    "from __future__ import division\n",
    "import numpy as np\n",
    "import pandas as pd\n",
    "import matplotlib.pyplot as plt\n",
    "import seaborn as sns\n",
    "from math import sqrt\n",
    "%matplotlib inline"
   ]
  },
  {
   "cell_type": "markdown",
   "metadata": {},
   "source": [
    "# Importing Data"
   ]
  },
  {
   "cell_type": "code",
   "execution_count": 2,
   "metadata": {},
   "outputs": [
    {
     "data": {
      "text/html": [
       "<div>\n",
       "<style scoped>\n",
       "    .dataframe tbody tr th:only-of-type {\n",
       "        vertical-align: middle;\n",
       "    }\n",
       "\n",
       "    .dataframe tbody tr th {\n",
       "        vertical-align: top;\n",
       "    }\n",
       "\n",
       "    .dataframe thead th {\n",
       "        text-align: right;\n",
       "    }\n",
       "</style>\n",
       "<table border=\"1\" class=\"dataframe\">\n",
       "  <thead>\n",
       "    <tr style=\"text-align: right;\">\n",
       "      <th></th>\n",
       "      <th>patient_no</th>\n",
       "      <th>L</th>\n",
       "      <th>A</th>\n",
       "      <th>LABEL_readmission</th>\n",
       "    </tr>\n",
       "  </thead>\n",
       "  <tbody>\n",
       "    <tr>\n",
       "      <th>0</th>\n",
       "      <td>0000B0A6E</td>\n",
       "      <td>3.0</td>\n",
       "      <td>3.0</td>\n",
       "      <td>0.0</td>\n",
       "    </tr>\n",
       "    <tr>\n",
       "      <th>1</th>\n",
       "      <td>0001F1E03</td>\n",
       "      <td>2.0</td>\n",
       "      <td>3.0</td>\n",
       "      <td>0.0</td>\n",
       "    </tr>\n",
       "    <tr>\n",
       "      <th>2</th>\n",
       "      <td>00025F282</td>\n",
       "      <td>3.0</td>\n",
       "      <td>3.0</td>\n",
       "      <td>0.0</td>\n",
       "    </tr>\n",
       "    <tr>\n",
       "      <th>3</th>\n",
       "      <td>0003345FA</td>\n",
       "      <td>1.0</td>\n",
       "      <td>0.0</td>\n",
       "      <td>0.0</td>\n",
       "    </tr>\n",
       "    <tr>\n",
       "      <th>4</th>\n",
       "      <td>00035A5D3</td>\n",
       "      <td>2.0</td>\n",
       "      <td>3.0</td>\n",
       "      <td>0.0</td>\n",
       "    </tr>\n",
       "  </tbody>\n",
       "</table>\n",
       "</div>"
      ],
      "text/plain": [
       "  patient_no    L    A  LABEL_readmission\n",
       "0  0000B0A6E  3.0  3.0                0.0\n",
       "1  0001F1E03  2.0  3.0                0.0\n",
       "2  00025F282  3.0  3.0                0.0\n",
       "3  0003345FA  1.0  0.0                0.0\n",
       "4  00035A5D3  2.0  3.0                0.0"
      ]
     },
     "execution_count": 2,
     "metadata": {},
     "output_type": "execute_result"
    }
   ],
   "source": [
    "# Import dataset into Python Pandas DataFrame\n",
    "df = pd.read_csv('./Data/data_label_merged.csv')\n",
    "# df = df[df['available'] == 1]\n",
    "df.head()"
   ]
  },
  {
   "cell_type": "code",
   "execution_count": 3,
   "metadata": {},
   "outputs": [
    {
     "name": "stdout",
     "output_type": "stream",
     "text": [
      "['patient_no', 'L', 'A', 'LABEL_readmission']\n"
     ]
    }
   ],
   "source": [
    "#Getting list of column headers\n",
    "features_list = df.columns.tolist()\n",
    "print(features_list)"
   ]
  },
  {
   "cell_type": "code",
   "execution_count": 4,
   "metadata": {},
   "outputs": [
    {
     "data": {
      "text/plain": [
       "patient_no            object\n",
       "L                    float64\n",
       "A                    float64\n",
       "LABEL_readmission    float64\n",
       "dtype: object"
      ]
     },
     "execution_count": 4,
     "metadata": {},
     "output_type": "execute_result"
    }
   ],
   "source": [
    "df.dtypes"
   ]
  },
  {
   "cell_type": "code",
   "execution_count": 5,
   "metadata": {},
   "outputs": [
    {
     "data": {
      "text/plain": [
       "patient_no           147431\n",
       "L                         7\n",
       "A                         2\n",
       "LABEL_readmission         2\n",
       "dtype: int64"
      ]
     },
     "execution_count": 5,
     "metadata": {},
     "output_type": "execute_result"
    }
   ],
   "source": [
    "df.nunique()"
   ]
  },
  {
   "cell_type": "code",
   "execution_count": 6,
   "metadata": {},
   "outputs": [],
   "source": [
    "# df['adm__datetime'] = pd.to_datetime(df['adm__datetime'])"
   ]
  },
  {
   "cell_type": "code",
   "execution_count": 7,
   "metadata": {},
   "outputs": [],
   "source": [
    "# df['dis_datetime'] = pd.to_datetime(df['dis_datetime'])"
   ]
  },
  {
   "cell_type": "code",
   "execution_count": 8,
   "metadata": {
    "scrolled": true
   },
   "outputs": [],
   "source": [
    "# df[['adm__datetime', 'dis_datetime']]"
   ]
  },
  {
   "cell_type": "code",
   "execution_count": 9,
   "metadata": {},
   "outputs": [
    {
     "data": {
      "text/plain": [
       "patient_no            object\n",
       "L                    float64\n",
       "A                    float64\n",
       "LABEL_readmission    float64\n",
       "dtype: object"
      ]
     },
     "execution_count": 9,
     "metadata": {},
     "output_type": "execute_result"
    }
   ],
   "source": [
    "df.dtypes"
   ]
  },
  {
   "cell_type": "code",
   "execution_count": 10,
   "metadata": {},
   "outputs": [],
   "source": [
    "#List of different types of features\n",
    "id_list = ['patient_no',]\n",
    "target_list = ['LABEL_readmission',]\n",
    "flag_list = [] #'available',\n",
    "num_list = [col for col in df.columns if df[col].nunique()>4 and col not in id_list and col not in flag_list]\n",
    "cat_list = [col for col in df.columns if df[col].nunique()<=4 and col not in target_list and col not in flag_list]\n",
    "for x in (id_list + target_list):\n",
    "    features_list.remove(x)"
   ]
  },
  {
   "cell_type": "code",
   "execution_count": 11,
   "metadata": {},
   "outputs": [
    {
     "data": {
      "text/plain": [
       "['L', 'A']"
      ]
     },
     "execution_count": 11,
     "metadata": {},
     "output_type": "execute_result"
    }
   ],
   "source": [
    "features_list"
   ]
  },
  {
   "cell_type": "markdown",
   "metadata": {},
   "source": [
    "## 2. Exploratory Data Analysis"
   ]
  },
  {
   "cell_type": "markdown",
   "metadata": {},
   "source": [
    "### 2.2 EDA for Numerical Variables"
   ]
  },
  {
   "cell_type": "code",
   "execution_count": 12,
   "metadata": {
    "scrolled": true
   },
   "outputs": [
    {
     "data": {
      "text/html": [
       "<div>\n",
       "<style scoped>\n",
       "    .dataframe tbody tr th:only-of-type {\n",
       "        vertical-align: middle;\n",
       "    }\n",
       "\n",
       "    .dataframe tbody tr th {\n",
       "        vertical-align: top;\n",
       "    }\n",
       "\n",
       "    .dataframe thead th {\n",
       "        text-align: right;\n",
       "    }\n",
       "</style>\n",
       "<table border=\"1\" class=\"dataframe\">\n",
       "  <thead>\n",
       "    <tr style=\"text-align: right;\">\n",
       "      <th></th>\n",
       "      <th>L</th>\n",
       "      <th>A</th>\n",
       "      <th>LABEL_readmission</th>\n",
       "    </tr>\n",
       "  </thead>\n",
       "  <tbody>\n",
       "    <tr>\n",
       "      <th>count</th>\n",
       "      <td>208149.000000</td>\n",
       "      <td>208149.000000</td>\n",
       "      <td>208149.000000</td>\n",
       "    </tr>\n",
       "    <tr>\n",
       "      <th>mean</th>\n",
       "      <td>1.812937</td>\n",
       "      <td>0.933586</td>\n",
       "      <td>0.102936</td>\n",
       "    </tr>\n",
       "    <tr>\n",
       "      <th>std</th>\n",
       "      <td>1.259431</td>\n",
       "      <td>1.388951</td>\n",
       "      <td>0.303876</td>\n",
       "    </tr>\n",
       "    <tr>\n",
       "      <th>min</th>\n",
       "      <td>0.000000</td>\n",
       "      <td>0.000000</td>\n",
       "      <td>0.000000</td>\n",
       "    </tr>\n",
       "    <tr>\n",
       "      <th>25%</th>\n",
       "      <td>1.000000</td>\n",
       "      <td>0.000000</td>\n",
       "      <td>0.000000</td>\n",
       "    </tr>\n",
       "    <tr>\n",
       "      <th>50%</th>\n",
       "      <td>1.000000</td>\n",
       "      <td>0.000000</td>\n",
       "      <td>0.000000</td>\n",
       "    </tr>\n",
       "    <tr>\n",
       "      <th>75%</th>\n",
       "      <td>2.000000</td>\n",
       "      <td>3.000000</td>\n",
       "      <td>0.000000</td>\n",
       "    </tr>\n",
       "    <tr>\n",
       "      <th>max</th>\n",
       "      <td>7.000000</td>\n",
       "      <td>3.000000</td>\n",
       "      <td>1.000000</td>\n",
       "    </tr>\n",
       "  </tbody>\n",
       "</table>\n",
       "</div>"
      ],
      "text/plain": [
       "                   L              A  LABEL_readmission\n",
       "count  208149.000000  208149.000000      208149.000000\n",
       "mean        1.812937       0.933586           0.102936\n",
       "std         1.259431       1.388951           0.303876\n",
       "min         0.000000       0.000000           0.000000\n",
       "25%         1.000000       0.000000           0.000000\n",
       "50%         1.000000       0.000000           0.000000\n",
       "75%         2.000000       3.000000           0.000000\n",
       "max         7.000000       3.000000           1.000000"
      ]
     },
     "execution_count": 12,
     "metadata": {},
     "output_type": "execute_result"
    }
   ],
   "source": [
    "df.describe()"
   ]
  },
  {
   "cell_type": "markdown",
   "metadata": {},
   "source": [
    "## 3. Data Pre-Processing"
   ]
  },
  {
   "cell_type": "markdown",
   "metadata": {},
   "source": [
    "### 3.1 Standardize Numerical Variables"
   ]
  },
  {
   "cell_type": "code",
   "execution_count": 13,
   "metadata": {
    "scrolled": true
   },
   "outputs": [],
   "source": [
    "# Load libraries\n",
    "from sklearn.preprocessing import StandardScaler, MinMaxScaler\n",
    "\n",
    "# Scaling Numerical Columns\n",
    "# Standardize features: Z-index\n",
    "scaler = MinMaxScaler()\n",
    "num_std = scaler.fit_transform(df[num_list])\n",
    "num_std = pd.DataFrame(num_std, columns = num_list)"
   ]
  },
  {
   "cell_type": "code",
   "execution_count": null,
   "metadata": {},
   "outputs": [],
   "source": [
    "#Merging scaled numerical data with catergorical data\n",
    "df_old = df.copy()\n",
    "df = df.drop(columns = num_list)\n",
    "df = df.merge(num_std, left_index=True, right_index=True, how='left')"
   ]
  },
  {
   "cell_type": "markdown",
   "metadata": {},
   "source": [
    "## 4. Modelling"
   ]
  },
  {
   "cell_type": "code",
   "execution_count": 14,
   "metadata": {
    "scrolled": true
   },
   "outputs": [],
   "source": [
    "from sklearn import datasets\n",
    "from sklearn.model_selection import train_test_split\n",
    "from sklearn.linear_model import LogisticRegression\n",
    "from sklearn.model_selection import KFold, cross_val_score\n",
    "from sklearn.tree import DecisionTreeClassifier\n",
    "from sklearn import tree\n",
    "from sklearn.metrics import accuracy_score, f1_score, precision_score, recall_score, classification_report, confusion_matrix\n",
    "from sklearn.metrics import roc_curve, auc"
   ]
  },
  {
   "cell_type": "code",
   "execution_count": 15,
   "metadata": {},
   "outputs": [],
   "source": [
    "# Create a 5-fold cross validation\n",
    "kf = KFold(n_splits = 5, shuffle=True, random_state = 12345)"
   ]
  },
  {
   "cell_type": "code",
   "execution_count": 16,
   "metadata": {},
   "outputs": [],
   "source": [
    "# For saving cross validation accuracy and confusion matrices for the different models\n",
    "cv = {}\n",
    "cm = {}\n",
    "cma = {}\n",
    "coeffs = {}\n",
    "fpr = {}\n",
    "tpr = {}\n",
    "roc_auc = {}"
   ]
  },
  {
   "cell_type": "code",
   "execution_count": 17,
   "metadata": {},
   "outputs": [],
   "source": [
    "def prediction(model, model_name, feature_weights):\n",
    "    print('##### Model',model_name,'#####')\n",
    "\n",
    "    # Cross Validation\n",
    "    cv[model_name] = cross_val_score(model, # Cross-validation on model\n",
    "                             X, # Feature matrix\n",
    "                             y, # Output vector\n",
    "                             cv=kf, # Cross-validation technique\n",
    "                             scoring='accuracy' # Model performance metrics: accuracy\n",
    "                            )\n",
    "    print('Report Average Cross-Validation Accuracy of',model_name+':')\n",
    "    print(np.mean(cv[model_name])*100, '%')\n",
    "\n",
    "    # Fit the model on train data\n",
    "    model.fit(X=X_train, y=y_train)\n",
    "\n",
    "    # Predict outputs for test data\n",
    "    y_pred = model.predict(X_test)\n",
    "\n",
    "    # Create confusion matrix\n",
    "    cm[model_name] = confusion_matrix(y_test, y_pred)\n",
    "    print('\\nConfusion Matrix of',model_name)\n",
    "    print(cm[model_name])\n",
    "    cma[model_name] = accuracy_score(y_test, y_pred)\n",
    "    print(\"Confusion Matrix Prediction Accuracy: \", cma[model_name]*100,'%')\n",
    "\n",
    "    # ROC and AUC\n",
    "    # Get predicted scores Pr(y=1): Used as thresholds for calculating TP Rate and FP Rate\n",
    "    # model.classes_\n",
    "    score = model.predict_proba(X_test)[:, 1]\n",
    "\n",
    "    # Plot ROC Curve\n",
    "    fpr[model_name], tpr[model_name], thresholds = roc_curve(y_test, score) # fpr: FP Rate, tpr: TP Rate, thresholds: Pr(y=1)\n",
    "    roc_auc[model_name] = auc(fpr[model_name], tpr[model_name])\n",
    "\n",
    "    plt.plot(fpr[model_name], tpr[model_name], label='AUC =coeff %0.2f'% roc_auc[model_name])\n",
    "    plt.legend(loc='lower right')\n",
    "    plt.plot([0,1],[0,1],'r--')\n",
    "    plt.xlim([-0.1,1.1])\n",
    "    plt.ylim([-0.1,1.1])\n",
    "    plt.title('Receiver operating characteristic')\n",
    "    plt.ylabel('True Positive Rate')\n",
    "    plt.xlabel('False Positive Rate')\n",
    "    plt.show()\n",
    "\n",
    "    # Get feature weights\n",
    "    if feature_weights:\n",
    "        if feature_weights == \"coeff\":\n",
    "            weights = pd.DataFrame(model.coef_[0])\n",
    "        elif feature_weights == \"features\":\n",
    "            weights = pd.DataFrame(model.feature_importances_)\n",
    "        # Bagging method makes use of many decision trees\n",
    "        elif feature_weights == \"bagging\":\n",
    "            weights = np.mean([tree.feature_importances_ for tree in model.estimators_], axis = 0)\n",
    "            weights = pd.DataFrame(weights)\n",
    "\n",
    "        coeffs[model_name] = pd.merge(pd.DataFrame(model_features),weights, left_index=True, right_index=True, how='left')\n",
    "        coeffs[model_name].columns = ['Feature', 'Weights']\n",
    "        coeffs[model_name] = coeffs[model_name].sort_values(by = 'Weights')\n",
    "\n",
    "        plt.barh(coeffs[model_name]['Feature'], coeffs[model_name]['Weights'])\n",
    "        plt.title('Feature Weights')\n",
    "        plt.show()\n",
    "\n",
    "        coeffs[model_name] = coeffs[model_name].sort_values(by = 'Weights', ascending=False)\n",
    "        print(coeffs[model_name])"
   ]
  },
  {
   "cell_type": "code",
   "execution_count": 18,
   "metadata": {},
   "outputs": [],
   "source": [
    "def set_train_test(df, features_list, target_list):\n",
    "    global X, y, X_train, X_test, y_train, y_test\n",
    "    \n",
    "    X = df[features_list]\n",
    "    y = df[target_list[0]]\n",
    "\n",
    "    # Do train-test split: 70% train and 30% test\n",
    "    X_train, X_test, y_train, y_test = train_test_split(X, y, test_size=0.3, random_state=0)"
   ]
  },
  {
   "cell_type": "markdown",
   "metadata": {},
   "source": [
    "### 4.1 Baseline Model: Logistic Regression"
   ]
  },
  {
   "cell_type": "code",
   "execution_count": 19,
   "metadata": {},
   "outputs": [],
   "source": [
    "set_train_test(df, features_list, target_list)"
   ]
  },
  {
   "cell_type": "code",
   "execution_count": 20,
   "metadata": {},
   "outputs": [],
   "source": [
    "# Logistic regression using L1-regularization\n",
    "lr1 = LogisticRegression(fit_intercept=True, max_iter=1000, tol=2e-9, penalty='l1', C=100, random_state=0, solver = 'liblinear')\n",
    "\n",
    "# Logistic regression using L2-regularization\n",
    "lr2 = LogisticRegression(fit_intercept=True, max_iter=1000, tol=2e-9, penalty='l2', C=100, random_state=0, solver = 'liblinear')\n",
    "\n",
    "model_features = features_list"
   ]
  },
  {
   "cell_type": "code",
   "execution_count": 21,
   "metadata": {},
   "outputs": [
    {
     "data": {
      "text/plain": [
       "array([0.89490752, 0.8973817 , 0.89944751, 0.89730963, 0.89627423])"
      ]
     },
     "execution_count": 21,
     "metadata": {},
     "output_type": "execute_result"
    }
   ],
   "source": [
    "cross_val_score(lr1, # Cross-validation on model\n",
    "                 X, # Feature matrix\n",
    "                 y, # Output vector\n",
    "                 cv=kf, # Cross-validation technique\n",
    "                 scoring='accuracy' # Model performance metrics: accuracy\n",
    "                )"
   ]
  },
  {
   "cell_type": "code",
   "execution_count": 22,
   "metadata": {
    "scrolled": false
   },
   "outputs": [
    {
     "name": "stdout",
     "output_type": "stream",
     "text": [
      "##### Model L1 Logistic Regression #####\n",
      "Report Average Cross-Validation Accuracy of L1 Logistic Regression:\n",
      "89.70641185406289 %\n",
      "\n",
      "Confusion Matrix of L1 Logistic Regression\n",
      "[[56015     0]\n",
      " [ 6430     0]]\n",
      "Confusion Matrix Prediction Accuracy:  89.70293858595564 %\n"
     ]
    },
    {
     "data": {
      "image/png": "[encoded data removed]",
      "text/plain": [
       "<Figure size 432x288 with 1 Axes>"
      ]
     },
     "metadata": {
      "needs_background": "light"
     },
     "output_type": "display_data"
    },
    {
     "data": {
      "image/png": "[encoded data removed]",
      "text/plain": [
       "<Figure size 432x288 with 1 Axes>"
      ]
     },
     "metadata": {
      "needs_background": "light"
     },
     "output_type": "display_data"
    },
    {
     "name": "stdout",
     "output_type": "stream",
     "text": [
      "  Feature   Weights\n",
      "0       L -0.014837\n",
      "1       A -0.098781\n"
     ]
    }
   ],
   "source": [
    "prediction(lr1, 'L1 Logistic Regression', 'coeff')"
   ]
  },
  {
   "cell_type": "code",
   "execution_count": 23,
   "metadata": {
    "scrolled": false
   },
   "outputs": [
    {
     "name": "stdout",
     "output_type": "stream",
     "text": [
      "##### Model L2 Logistic Regression #####\n",
      "Report Average Cross-Validation Accuracy of L2 Logistic Regression:\n",
      "89.70641185406289 %\n",
      "\n",
      "Confusion Matrix of L2 Logistic Regression\n",
      "[[56015     0]\n",
      " [ 6430     0]]\n",
      "Confusion Matrix Prediction Accuracy:  89.70293858595564 %\n"
     ]
    },
    {
     "data": {
      "image/png": "[encoded data removed]",
      "text/plain": [
       "<Figure size 432x288 with 1 Axes>"
      ]
     },
     "metadata": {
      "needs_background": "light"
     },
     "output_type": "display_data"
    },
    {
     "data": {
      "image/png": "[encoded data removed]",
      "text/plain": [
       "<Figure size 432x288 with 1 Axes>"
      ]
     },
     "metadata": {
      "needs_background": "light"
     },
     "output_type": "display_data"
    },
    {
     "name": "stdout",
     "output_type": "stream",
     "text": [
      "  Feature   Weights\n",
      "0       L -0.014839\n",
      "1       A -0.098781\n"
     ]
    }
   ],
   "source": [
    "prediction(lr2, 'L2 Logistic Regression', 'coeff')"
   ]
  },
  {
   "cell_type": "markdown",
   "metadata": {},
   "source": [
    "## Univariate feature selection"
   ]
  },
  {
   "cell_type": "code",
   "execution_count": 24,
   "metadata": {},
   "outputs": [],
   "source": [
    "from sklearn.feature_selection import chi2\n",
    "from sklearn.feature_selection import SelectKBest"
   ]
  },
  {
   "cell_type": "code",
   "execution_count": 25,
   "metadata": {},
   "outputs": [],
   "source": [
    "select = SelectKBest(score_func = chi2,k = 2) #todo: change k to 3?\n",
    "fit    = select.fit(X,y)"
   ]
  },
  {
   "cell_type": "code",
   "execution_count": 26,
   "metadata": {
    "scrolled": true
   },
   "outputs": [
    {
     "data": {
      "text/html": [
       "<div>\n",
       "<style scoped>\n",
       "    .dataframe tbody tr th:only-of-type {\n",
       "        vertical-align: middle;\n",
       "    }\n",
       "\n",
       "    .dataframe tbody tr th {\n",
       "        vertical-align: top;\n",
       "    }\n",
       "\n",
       "    .dataframe thead th {\n",
       "        text-align: right;\n",
       "    }\n",
       "</style>\n",
       "<table border=\"1\" class=\"dataframe\">\n",
       "  <thead>\n",
       "    <tr style=\"text-align: right;\">\n",
       "      <th></th>\n",
       "      <th>features</th>\n",
       "      <th>scores</th>\n",
       "      <th>p_values</th>\n",
       "    </tr>\n",
       "  </thead>\n",
       "  <tbody>\n",
       "    <tr>\n",
       "      <th>1</th>\n",
       "      <td>A</td>\n",
       "      <td>770.791276</td>\n",
       "      <td>1.209793e-169</td>\n",
       "    </tr>\n",
       "    <tr>\n",
       "      <th>0</th>\n",
       "      <td>L</td>\n",
       "      <td>98.111484</td>\n",
       "      <td>3.954786e-23</td>\n",
       "    </tr>\n",
       "  </tbody>\n",
       "</table>\n",
       "</div>"
      ],
      "text/plain": [
       "  features      scores       p_values\n",
       "1        A  770.791276  1.209793e-169\n",
       "0        L   98.111484   3.954786e-23"
      ]
     },
     "execution_count": 26,
     "metadata": {},
     "output_type": "execute_result"
    }
   ],
   "source": [
    "score = pd.DataFrame({\"features\":features_list,\"scores\":fit.scores_,\"p_values\":fit.pvalues_ })\n",
    "score = score.sort_values(by = \"scores\" ,ascending =False)\n",
    "score"
   ]
  },
  {
   "cell_type": "code",
   "execution_count": 27,
   "metadata": {},
   "outputs": [],
   "source": [
    "# Function that determines features that give the highest cross validation accuracy\n",
    "# for a particular model\n",
    "def test_feature_number(model, scoredf):\n",
    "    global score\n",
    "    all_accuracies = []\n",
    "    ranked_accuracies = [0,]\n",
    "    ranked_index = [0,]\n",
    "    \n",
    "    score = scoredf.sort_values(by = 'scores' ,ascending =False)\n",
    "    \n",
    "    for i in range(len(score['features']))[1:]:\n",
    "        set_train_test(df, list(score['features'][:i]), target_list)\n",
    "        cv_new = cross_val_score(model, # Cross-validation on model\n",
    "                                 X, # Feature matrix\n",
    "                                 y, # Output vector\n",
    "                                 cv=kf, # Cross-validation technique\n",
    "                                 scoring='accuracy' # Model performance metrics: accuracy\n",
    "                                )\n",
    "        me = np.mean(cv_new)\n",
    "        if me > ranked_accuracies[-1]:\n",
    "            ranked_accuracies.append(me)\n",
    "            ranked_index.append(i)\n",
    "        all_accuracies.append(me)\n",
    "    \n",
    "    print('Table of Increasing Accuracies')\n",
    "    tab = pd.DataFrame({'Number of Features':ranked_index,\n",
    "                       'Average Cross Validation Accuracy':ranked_accuracies}).transpose()\n",
    "    display(tab)\n",
    "    \n",
    "    plt.plot(all_accuracies)\n",
    "    plt.title('Average Cross Validation Accuracy')\n",
    "    plt.xlabel('Number of Features')\n",
    "    plt.show()\n",
    "    \n",
    "    return max(ranked_index)"
   ]
  },
  {
   "cell_type": "markdown",
   "metadata": {},
   "source": [
    "## 4.2 Ensemble Learning"
   ]
  },
  {
   "cell_type": "code",
   "execution_count": 28,
   "metadata": {
    "scrolled": true
   },
   "outputs": [],
   "source": [
    "from sklearn.ensemble import BaggingClassifier, RandomForestClassifier, AdaBoostClassifier"
   ]
  },
  {
   "cell_type": "code",
   "execution_count": 29,
   "metadata": {},
   "outputs": [],
   "source": [
    "# Model 1: Single decision tree model\n",
    "decision_tree = DecisionTreeClassifier(criterion='entropy', random_state=12345)\n",
    "\n",
    "# Model 2: Bagging method\n",
    "bagging = BaggingClassifier(n_estimators=100, random_state=12345)\n",
    "\n",
    "# Model 3: Random Forest method\n",
    "random_forest = RandomForestClassifier(criterion='entropy', n_estimators=100, random_state=12345)\n",
    "\n",
    "# Model 4: AdaBoosting method\n",
    "Adaboost = AdaBoostClassifier(n_estimators=100, random_state=12345)"
   ]
  },
  {
   "cell_type": "markdown",
   "metadata": {},
   "source": [
    "### 4.2.1 Method 1: Decision Tree Classifier"
   ]
  },
  {
   "cell_type": "code",
   "execution_count": 34,
   "metadata": {
    "scrolled": false
   },
   "outputs": [
    {
     "name": "stdout",
     "output_type": "stream",
     "text": [
      "Table of Increasing Accuracies\n"
     ]
    },
    {
     "data": {
      "text/html": [
       "<div>\n",
       "<style scoped>\n",
       "    .dataframe tbody tr th:only-of-type {\n",
       "        vertical-align: middle;\n",
       "    }\n",
       "\n",
       "    .dataframe tbody tr th {\n",
       "        vertical-align: top;\n",
       "    }\n",
       "\n",
       "    .dataframe thead th {\n",
       "        text-align: right;\n",
       "    }\n",
       "</style>\n",
       "<table border=\"1\" class=\"dataframe\">\n",
       "  <thead>\n",
       "    <tr style=\"text-align: right;\">\n",
       "      <th></th>\n",
       "      <th>0</th>\n",
       "      <th>1</th>\n",
       "    </tr>\n",
       "  </thead>\n",
       "  <tbody>\n",
       "    <tr>\n",
       "      <th>Number of Features</th>\n",
       "      <td>0.0</td>\n",
       "      <td>1.000000</td>\n",
       "    </tr>\n",
       "    <tr>\n",
       "      <th>Average Cross Validation Accuracy</th>\n",
       "      <td>0.0</td>\n",
       "      <td>0.897064</td>\n",
       "    </tr>\n",
       "  </tbody>\n",
       "</table>\n",
       "</div>"
      ],
      "text/plain": [
       "                                     0         1\n",
       "Number of Features                 0.0  1.000000\n",
       "Average Cross Validation Accuracy  0.0  0.897064"
      ]
     },
     "metadata": {},
     "output_type": "display_data"
    },
    {
     "data": {
      "image/png": "[encoded data removed]",
      "text/plain": [
       "<Figure size 432x288 with 1 Axes>"
      ]
     },
     "metadata": {
      "needs_background": "light"
     },
     "output_type": "display_data"
    }
   ],
   "source": [
    "model = decision_tree\n",
    "feature_number = test_feature_number(model, score)\n",
    "model_features = list(score['features'][:feature_number])\n",
    "set_train_test(df, model_features, target_list)"
   ]
  },
  {
   "cell_type": "code",
   "execution_count": 35,
   "metadata": {
    "scrolled": false
   },
   "outputs": [
    {
     "name": "stdout",
     "output_type": "stream",
     "text": [
      "##### Model Decision Tree #####\n",
      "Report Average Cross-Validation Accuracy of Decision Tree:\n",
      "89.70641185406289 %\n",
      "\n",
      "Confusion Matrix of Decision Tree\n",
      "[[56015     0]\n",
      " [ 6430     0]]\n",
      "Confusion Matrix Prediction Accuracy:  89.70293858595564 %\n"
     ]
    },
    {
     "data": {
      "image/png": "[encoded data removed]",
      "text/plain": [
       "<Figure size 432x288 with 1 Axes>"
      ]
     },
     "metadata": {
      "needs_background": "light"
     },
     "output_type": "display_data"
    },
    {
     "data": {
      "image/png": "[encoded data removed]",
      "text/plain": [
       "<Figure size 432x288 with 1 Axes>"
      ]
     },
     "metadata": {
      "needs_background": "light"
     },
     "output_type": "display_data"
    },
    {
     "name": "stdout",
     "output_type": "stream",
     "text": [
      "  Feature  Weights\n",
      "0       A      1.0\n"
     ]
    }
   ],
   "source": [
    "# Model 1\n",
    "prediction(decision_tree, 'Decision Tree', 'features')"
   ]
  },
  {
   "cell_type": "code",
   "execution_count": 36,
   "metadata": {},
   "outputs": [],
   "source": [
    "# Plot the decision tree\n",
    "import graphviz"
   ]
  },
  {
   "cell_type": "code",
   "execution_count": 41,
   "metadata": {
    "scrolled": true
   },
   "outputs": [],
   "source": [
    "# dot_data = tree.export_graphviz(decision_tree, out_file=None, feature_names=model_features, class_names=target_list[0], \n",
    "#                                 filled=True, rounded=True, special_characters=True)  \n",
    "# graph = graphviz.Source(dot_data) \n",
    "# graph"
   ]
  },
  {
   "cell_type": "code",
   "execution_count": 38,
   "metadata": {},
   "outputs": [],
   "source": [
    "# # Store in .pdf \n",
    "# graph.render(\"Decision Tree\") "
   ]
  },
  {
   "cell_type": "markdown",
   "metadata": {},
   "source": [
    "### 4.2.2 Method 2: Bootstrap Aggregating Classifier"
   ]
  },
  {
   "cell_type": "code",
   "execution_count": 39,
   "metadata": {},
   "outputs": [
    {
     "name": "stdout",
     "output_type": "stream",
     "text": [
      "Table of Increasing Accuracies\n"
     ]
    },
    {
     "data": {
      "text/html": [
       "<div>\n",
       "<style scoped>\n",
       "    .dataframe tbody tr th:only-of-type {\n",
       "        vertical-align: middle;\n",
       "    }\n",
       "\n",
       "    .dataframe tbody tr th {\n",
       "        vertical-align: top;\n",
       "    }\n",
       "\n",
       "    .dataframe thead th {\n",
       "        text-align: right;\n",
       "    }\n",
       "</style>\n",
       "<table border=\"1\" class=\"dataframe\">\n",
       "  <thead>\n",
       "    <tr style=\"text-align: right;\">\n",
       "      <th></th>\n",
       "      <th>0</th>\n",
       "      <th>1</th>\n",
       "    </tr>\n",
       "  </thead>\n",
       "  <tbody>\n",
       "    <tr>\n",
       "      <th>Number of Features</th>\n",
       "      <td>0.0</td>\n",
       "      <td>1.000000</td>\n",
       "    </tr>\n",
       "    <tr>\n",
       "      <th>Average Cross Validation Accuracy</th>\n",
       "      <td>0.0</td>\n",
       "      <td>0.897064</td>\n",
       "    </tr>\n",
       "  </tbody>\n",
       "</table>\n",
       "</div>"
      ],
      "text/plain": [
       "                                     0         1\n",
       "Number of Features                 0.0  1.000000\n",
       "Average Cross Validation Accuracy  0.0  0.897064"
      ]
     },
     "metadata": {},
     "output_type": "display_data"
    },
    {
     "data": {
      "image/png": "[encoded data removed]",
      "text/plain": [
       "<Figure size 432x288 with 1 Axes>"
      ]
     },
     "metadata": {
      "needs_background": "light"
     },
     "output_type": "display_data"
    }
   ],
   "source": [
    "model = bagging\n",
    "feature_number = test_feature_number(model, score)\n",
    "model_features = list(score['features'][:feature_number])\n",
    "set_train_test(df, model_features, target_list)"
   ]
  },
  {
   "cell_type": "code",
   "execution_count": 40,
   "metadata": {
    "scrolled": false
   },
   "outputs": [
    {
     "name": "stdout",
     "output_type": "stream",
     "text": [
      "##### Model Bootstrap Aggregating #####\n",
      "Report Average Cross-Validation Accuracy of Bootstrap Aggregating:\n",
      "89.70641185406289 %\n",
      "\n",
      "Confusion Matrix of Bootstrap Aggregating\n",
      "[[56015     0]\n",
      " [ 6430     0]]\n",
      "Confusion Matrix Prediction Accuracy:  89.70293858595564 %\n"
     ]
    },
    {
     "data": {
      "image/png": "[encoded data removed]",
      "text/plain": [
       "<Figure size 432x288 with 1 Axes>"
      ]
     },
     "metadata": {
      "needs_background": "light"
     },
     "output_type": "display_data"
    },
    {
     "data": {
      "image/png": "[encoded data removed]",
      "text/plain": [
       "<Figure size 432x288 with 1 Axes>"
      ]
     },
     "metadata": {
      "needs_background": "light"
     },
     "output_type": "display_data"
    },
    {
     "name": "stdout",
     "output_type": "stream",
     "text": [
      "  Feature  Weights\n",
      "0       A      1.0\n"
     ]
    }
   ],
   "source": [
    "# Model 2\n",
    "prediction(bagging,'Bootstrap Aggregating',\"bagging\")"
   ]
  },
  {
   "cell_type": "markdown",
   "metadata": {},
   "source": [
    "### 4.2.3 Method 3: Random Forest Classifier"
   ]
  },
  {
   "cell_type": "code",
   "execution_count": 42,
   "metadata": {},
   "outputs": [
    {
     "name": "stdout",
     "output_type": "stream",
     "text": [
      "Table of Increasing Accuracies\n"
     ]
    },
    {
     "data": {
      "text/html": [
       "<div>\n",
       "<style scoped>\n",
       "    .dataframe tbody tr th:only-of-type {\n",
       "        vertical-align: middle;\n",
       "    }\n",
       "\n",
       "    .dataframe tbody tr th {\n",
       "        vertical-align: top;\n",
       "    }\n",
       "\n",
       "    .dataframe thead th {\n",
       "        text-align: right;\n",
       "    }\n",
       "</style>\n",
       "<table border=\"1\" class=\"dataframe\">\n",
       "  <thead>\n",
       "    <tr style=\"text-align: right;\">\n",
       "      <th></th>\n",
       "      <th>0</th>\n",
       "      <th>1</th>\n",
       "    </tr>\n",
       "  </thead>\n",
       "  <tbody>\n",
       "    <tr>\n",
       "      <th>Number of Features</th>\n",
       "      <td>0.0</td>\n",
       "      <td>1.000000</td>\n",
       "    </tr>\n",
       "    <tr>\n",
       "      <th>Average Cross Validation Accuracy</th>\n",
       "      <td>0.0</td>\n",
       "      <td>0.897064</td>\n",
       "    </tr>\n",
       "  </tbody>\n",
       "</table>\n",
       "</div>"
      ],
      "text/plain": [
       "                                     0         1\n",
       "Number of Features                 0.0  1.000000\n",
       "Average Cross Validation Accuracy  0.0  0.897064"
      ]
     },
     "metadata": {},
     "output_type": "display_data"
    },
    {
     "data": {
      "image/png": "[encoded data removed]",
      "text/plain": [
       "<Figure size 432x288 with 1 Axes>"
      ]
     },
     "metadata": {
      "needs_background": "light"
     },
     "output_type": "display_data"
    }
   ],
   "source": [
    "model = random_forest\n",
    "feature_number = test_feature_number(model, score)\n",
    "model_features = list(score['features'][:feature_number])\n",
    "set_train_test(df, model_features, target_list)"
   ]
  },
  {
   "cell_type": "code",
   "execution_count": 43,
   "metadata": {},
   "outputs": [
    {
     "name": "stdout",
     "output_type": "stream",
     "text": [
      "##### Model Random Forest #####\n",
      "Report Average Cross-Validation Accuracy of Random Forest:\n",
      "89.70641185406289 %\n",
      "\n",
      "Confusion Matrix of Random Forest\n",
      "[[56015     0]\n",
      " [ 6430     0]]\n",
      "Confusion Matrix Prediction Accuracy:  89.70293858595564 %\n"
     ]
    },
    {
     "data": {
      "image/png": "[encoded data removed]",
      "text/plain": [
       "<Figure size 432x288 with 1 Axes>"
      ]
     },
     "metadata": {
      "needs_background": "light"
     },
     "output_type": "display_data"
    },
    {
     "data": {
      "image/png": "[encoded data removed]",
      "text/plain": [
       "<Figure size 432x288 with 1 Axes>"
      ]
     },
     "metadata": {
      "needs_background": "light"
     },
     "output_type": "display_data"
    },
    {
     "name": "stdout",
     "output_type": "stream",
     "text": [
      "  Feature  Weights\n",
      "0       A      1.0\n"
     ]
    }
   ],
   "source": [
    "# Model 3\n",
    "prediction(random_forest,'Random Forest',\"features\")"
   ]
  },
  {
   "cell_type": "markdown",
   "metadata": {},
   "source": [
    "### 4.2.4 Method 4: AdaBoost Classifier"
   ]
  },
  {
   "cell_type": "code",
   "execution_count": 44,
   "metadata": {},
   "outputs": [
    {
     "name": "stdout",
     "output_type": "stream",
     "text": [
      "Table of Increasing Accuracies\n"
     ]
    },
    {
     "data": {
      "text/html": [
       "<div>\n",
       "<style scoped>\n",
       "    .dataframe tbody tr th:only-of-type {\n",
       "        vertical-align: middle;\n",
       "    }\n",
       "\n",
       "    .dataframe tbody tr th {\n",
       "        vertical-align: top;\n",
       "    }\n",
       "\n",
       "    .dataframe thead th {\n",
       "        text-align: right;\n",
       "    }\n",
       "</style>\n",
       "<table border=\"1\" class=\"dataframe\">\n",
       "  <thead>\n",
       "    <tr style=\"text-align: right;\">\n",
       "      <th></th>\n",
       "      <th>0</th>\n",
       "      <th>1</th>\n",
       "    </tr>\n",
       "  </thead>\n",
       "  <tbody>\n",
       "    <tr>\n",
       "      <th>Number of Features</th>\n",
       "      <td>0.0</td>\n",
       "      <td>1.000000</td>\n",
       "    </tr>\n",
       "    <tr>\n",
       "      <th>Average Cross Validation Accuracy</th>\n",
       "      <td>0.0</td>\n",
       "      <td>0.897064</td>\n",
       "    </tr>\n",
       "  </tbody>\n",
       "</table>\n",
       "</div>"
      ],
      "text/plain": [
       "                                     0         1\n",
       "Number of Features                 0.0  1.000000\n",
       "Average Cross Validation Accuracy  0.0  0.897064"
      ]
     },
     "metadata": {},
     "output_type": "display_data"
    },
    {
     "data": {
      "image/png": "[encoded data removed]",
      "text/plain": [
       "<Figure size 432x288 with 1 Axes>"
      ]
     },
     "metadata": {
      "needs_background": "light"
     },
     "output_type": "display_data"
    }
   ],
   "source": [
    "model = Adaboost\n",
    "feature_number = test_feature_number(model, score)\n",
    "model_features = list(score['features'][:feature_number])\n",
    "set_train_test(df, model_features, target_list)"
   ]
  },
  {
   "cell_type": "code",
   "execution_count": 45,
   "metadata": {
    "scrolled": false
   },
   "outputs": [
    {
     "name": "stdout",
     "output_type": "stream",
     "text": [
      "##### Model AdaBoost #####\n",
      "Report Average Cross-Validation Accuracy of AdaBoost:\n",
      "89.70641185406289 %\n",
      "\n",
      "Confusion Matrix of AdaBoost\n",
      "[[56015     0]\n",
      " [ 6430     0]]\n",
      "Confusion Matrix Prediction Accuracy:  89.70293858595564 %\n"
     ]
    },
    {
     "data": {
      "image/png": "[encoded data removed]",
      "text/plain": [
       "<Figure size 432x288 with 1 Axes>"
      ]
     },
     "metadata": {
      "needs_background": "light"
     },
     "output_type": "display_data"
    },
    {
     "data": {
      "image/png": "[encoded data removed]",
      "text/plain": [
       "<Figure size 432x288 with 1 Axes>"
      ]
     },
     "metadata": {
      "needs_background": "light"
     },
     "output_type": "display_data"
    },
    {
     "name": "stdout",
     "output_type": "stream",
     "text": [
      "  Feature  Weights\n",
      "0       A      1.0\n"
     ]
    }
   ],
   "source": [
    "# Model 4\n",
    "prediction(Adaboost,'AdaBoost',\"features\")"
   ]
  },
  {
   "cell_type": "markdown",
   "metadata": {},
   "source": [
    "### 4.2.5 Method 5: KNN Classifier"
   ]
  },
  {
   "cell_type": "code",
   "execution_count": 46,
   "metadata": {},
   "outputs": [
    {
     "name": "stdout",
     "output_type": "stream",
     "text": [
      "Number of training samples = 145704\n",
      "Square root of number of training samples 381.71193326905563\n"
     ]
    }
   ],
   "source": [
    "# Number of samples in train data set\n",
    "print('Number of training samples =', X_train.shape[0])\n",
    "print('Square root of number of training samples', X_train.shape[0]**0.5)"
   ]
  },
  {
   "cell_type": "markdown",
   "metadata": {},
   "source": [
    "We shall search up to 80 as the optimum number of neighbours should lie close to the square root of the total number of samples in the train data set. \n",
    "Furthermore, an odd number is preferred when choosing values of k. \n",
    "In addition, k should not be too small or big a number, guarding against overfitting and bias respectively."
   ]
  },
  {
   "cell_type": "code",
   "execution_count": null,
   "metadata": {},
   "outputs": [],
   "source": [
    "from sklearn.neighbors import KNeighborsClassifier"
   ]
  },
  {
   "cell_type": "code",
   "execution_count": null,
   "metadata": {
    "scrolled": true
   },
   "outputs": [],
   "source": [
    "l = [0,]\n",
    "a = [0,]\n",
    "for i in range(80)[1:]:\n",
    "    knn = KNeighborsClassifier(algorithm='auto', n_neighbors=i)\n",
    "    cv_knn = cross_val_score(knn, # Cross-validation on model\n",
    "                             X, # Feature matrix\n",
    "                             y, # Output vector\n",
    "                             cv=kf, # Cross-validation technique\n",
    "                             scoring='accuracy' # Model performance metrics: accuracy\n",
    "                            )\n",
    "    me = np.mean(cv_knn)\n",
    "    if me > max(l):\n",
    "        l.append(me)\n",
    "        a.append(i)\n",
    "print(l)\n",
    "print(a)"
   ]
  },
  {
   "cell_type": "markdown",
   "metadata": {},
   "source": [
    "As the largest few numbers are even numbers, which are non ideal for knn classification, we shall run the search again, this time for odd numbers only"
   ]
  },
  {
   "cell_type": "code",
   "execution_count": null,
   "metadata": {},
   "outputs": [],
   "source": [
    "l = [0,]\n",
    "a = [0,]\n",
    "for i in range(80)[1:]:\n",
    "    knn = KNeighborsClassifier(algorithm='auto', n_neighbors=i)\n",
    "    cv_knn = cross_val_score(knn, # Cross-validation on model\n",
    "                             X, # Feature matrix\n",
    "                             y, # Output vector\n",
    "                             cv=kf, # Cross-validation technique\n",
    "                             scoring='accuracy' # Model performance metrics: accuracy\n",
    "                            )\n",
    "    me = np.mean(cv_knn)\n",
    "    if me > max(l) and i%2:\n",
    "        l.append(me)\n",
    "        a.append(i)\n",
    "print(l)\n",
    "print(a)"
   ]
  },
  {
   "cell_type": "code",
   "execution_count": null,
   "metadata": {},
   "outputs": [],
   "source": [
    "knn = KNeighborsClassifier(algorithm='auto', n_neighbors=max(a))"
   ]
  },
  {
   "cell_type": "code",
   "execution_count": null,
   "metadata": {
    "scrolled": false
   },
   "outputs": [],
   "source": [
    "prediction(knn,'Kth Nearest Neighbours',None)"
   ]
  },
  {
   "cell_type": "markdown",
   "metadata": {},
   "source": [
    "## 5. Model Results"
   ]
  },
  {
   "cell_type": "markdown",
   "metadata": {},
   "source": [
    "### 5.1 Confusion Matrices"
   ]
  },
  {
   "cell_type": "code",
   "execution_count": null,
   "metadata": {},
   "outputs": [],
   "source": [
    "# Confusion matrices\n",
    "plt.figure(figsize = (13,13))\n",
    "i = 1\n",
    "for x in cm:\n",
    "    plt.subplot(3,3,i)\n",
    "    sns.heatmap(cm[x], square=True, annot=True, fmt='d',\n",
    "                xticklabels=[\"not churn\",\"churn\"],\n",
    "                yticklabels=[\"not churn\",\"churn\"])\n",
    "    acc = round(cma[x]*100, 2)\n",
    "    plt.title(x+': '+str(acc)+'%')\n",
    "    i+=1\n",
    "plt.show()"
   ]
  },
  {
   "cell_type": "markdown",
   "metadata": {},
   "source": [
    "### 5.2 Cross-Validation Accuracy"
   ]
  },
  {
   "cell_type": "code",
   "execution_count": null,
   "metadata": {
    "scrolled": true
   },
   "outputs": [],
   "source": [
    "fig, ax = plt.subplots()\n",
    "n = np.arange(len(cv))\n",
    "width = 0.15\n",
    "for i in range(len(cv['L2 Logistic Regression'])):\n",
    "    ax.barh(n+i*width, [x[i] for x in list(cv.values())], width)\n",
    "ax.set_yticks(n + (len(cv['L2 Logistic Regression'])-1)* width/2)\n",
    "ax.set_yticklabels(list(cv.keys()))\n",
    "plt.title('Cross-Validation Accuracy across multiple runs')\n",
    "plt.show()"
   ]
  },
  {
   "cell_type": "code",
   "execution_count": null,
   "metadata": {
    "scrolled": false
   },
   "outputs": [],
   "source": [
    "# Average Cross-Validation Accuracy\n",
    "cv_ave = pd.DataFrame({'Model': list(cv.keys()),\n",
    "                      'Average Cross Validation Accuracy': np.mean(list(cv.values()), axis=1),\n",
    "                      'Confusion Matrix Accuracy': list(cma.values())})\n",
    "keys = pd.DataFrame(list(cv.keys()))\n",
    "cv_ave = cv_ave.set_index('Model', drop=False)\n",
    "plt.barh(cv_ave['Model'], cv_ave['Average Cross Validation Accuracy'])\n",
    "plt.title('Average Cross Validation Accuracy')\n",
    "plt.show()\n",
    "display(cv_ave)"
   ]
  },
  {
   "cell_type": "markdown",
   "metadata": {},
   "source": [
    "### 5.3 ROC Curves"
   ]
  },
  {
   "cell_type": "code",
   "execution_count": null,
   "metadata": {},
   "outputs": [],
   "source": [
    "plt.figure(figsize = (13,14))\n",
    "i = 1\n",
    "for model_name in keys[0]:\n",
    "    plt.subplot(3,3,i)\n",
    "    \n",
    "    plt.plot(fpr[model_name], tpr[model_name], label='AUC =coeff %0.2f'% roc_auc[model_name])\n",
    "    plt.legend(loc='lower right')\n",
    "    plt.plot([0,1],[0,1],'r--')\n",
    "    plt.xlim([-0.1,1.1])\n",
    "    plt.ylim([-0.1,1.1])\n",
    "    plt.title(model_name)\n",
    "    plt.ylabel('True Positive Rate')\n",
    "    plt.xlabel('False Positive Rate')\n",
    "    \n",
    "    i+=1\n",
    "plt.show()"
   ]
  },
  {
   "cell_type": "markdown",
   "metadata": {},
   "source": [
    "### 5.4 Overall Coefficient Weights"
   ]
  },
  {
   "cell_type": "code",
   "execution_count": null,
   "metadata": {},
   "outputs": [],
   "source": [
    "keys1 = list(keys[0])\n",
    "keys1 = [i for i in keys1 if i not in ['Kth Nearest Neighbours', 'L1 Logistic Regression']]"
   ]
  },
  {
   "cell_type": "code",
   "execution_count": null,
   "metadata": {
    "scrolled": false
   },
   "outputs": [],
   "source": [
    "for model_name in keys1:\n",
    "    plt.barh(coeffs[model_name]['Feature'], coeffs[model_name]['Weights'])\n",
    "    plt.title(model_name +' Feature Weights')\n",
    "    plt.show()"
   ]
  },
  {
   "cell_type": "markdown",
   "metadata": {},
   "source": [
    "We shall apply the following steps to obtain the final Feature Weights from the 7 models:\n",
    "1. Square all the Feature Weights to account for negative values\n",
    "2. Scale all the Feature Weights with a scaler so feature weights across models are given the same weightage\n",
    "2. Multiply resulting Feature Weights by the Model's Average Cross-Validation Accuracy to get the weighted Feature weight based on how accurate each model is\n",
    "3. Sum the weights from all the models\n",
    "\n",
    "These feature weights are relative to each other."
   ]
  },
  {
   "cell_type": "code",
   "execution_count": null,
   "metadata": {
    "scrolled": false
   },
   "outputs": [],
   "source": [
    "import copy\n",
    "coeffs_new = copy.deepcopy(coeffs)"
   ]
  },
  {
   "cell_type": "code",
   "execution_count": null,
   "metadata": {},
   "outputs": [],
   "source": [
    "for model in coeffs_new:\n",
    "    coeffs_new[model] = coeffs_new[model].sort_values(by = 'Feature')\n",
    "    coeffs_new[model]['Weights'] = coeffs_new[model]['Weights'].map(lambda x: x**2)\n",
    "    \n",
    "    # Scaler does not play well with data containing NaN, thus we shall scale the weights manually\n",
    "    small = coeffs_new[model]['Weights'].min()\n",
    "    big = coeffs_new[model]['Weights'].max()\n",
    "    coeffs_new[model]['Weights'] = coeffs_new[model]['Weights'].\\\n",
    "    map(lambda x: (x-small) / (big-small))\n",
    "    \n",
    "    coeffs_new[model]['Weights'] = coeffs_new[model]['Weights'].\\\n",
    "    map(lambda x: x * (cv_ave.loc[model, 'Average Cross Validation Accuracy']))\n",
    "\n",
    "coeffs_new['total'] = copy.deepcopy(coeffs_new['L1 Logistic Regression'])\n",
    "coeffs_new['total']['Weights'] = 0\n",
    "coeffs_new['total'].index = list(coeffs_new['total']['Feature'])"
   ]
  },
  {
   "cell_type": "code",
   "execution_count": null,
   "metadata": {},
   "outputs": [],
   "source": [
    "for feature in list(coeffs_new['total']['Feature']):\n",
    "    for model in keys1:\n",
    "        if feature in list(coeffs_new[model]['Feature']):\n",
    "            weight = float(coeffs_new[model][coeffs_new[model]['Feature']==feature]['Weights'])\n",
    "            coeffs_new['total'].loc[feature, 'Weights'] += weight"
   ]
  },
  {
   "cell_type": "code",
   "execution_count": null,
   "metadata": {},
   "outputs": [],
   "source": [
    "coeffs_new['total'] = coeffs_new['total'].sort_values(by = 'Weights')\n",
    "\n",
    "plt.barh(coeffs_new['total']['Feature'], coeffs_new['total']['Weights'])\n",
    "plt.title('Overall' +' Feature Weights')\n",
    "plt.show()\n",
    "\n",
    "coeffs_new['total'] = coeffs_new['total'].sort_values(by = 'Weights', ascending=False)\n",
    "coeffs_new['total'].index = range(24)\n",
    "print(coeffs_new['total'])"
   ]
  },
  {
   "cell_type": "code",
   "execution_count": null,
   "metadata": {},
   "outputs": [],
   "source": []
  }
 ],
 "metadata": {
  "kernelspec": {
   "display_name": "Python 3",
   "language": "python",
   "name": "python3"
  },
  "language_info": {
   "codemirror_mode": {
    "name": "ipython",
    "version": 3
   },
   "file_extension": ".py",
   "mimetype": "text/x-python",
   "name": "python",
   "nbconvert_exporter": "python",
   "pygments_lexer": "ipython3",
   "version": "3.7.3"
  }
 },
 "nbformat": 4,
 "nbformat_minor": 2
}
